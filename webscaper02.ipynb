{
 "cells": [
  {
   "cell_type": "code",
   "execution_count": 2,
   "id": "48d10661-e221-4e85-9038-449a5028347e",
   "metadata": {},
   "outputs": [],
   "source": [
    "import pandas as pd\n",
    "from selenium import webdriver\n",
    "from selenium.webdriver.common.by import By\n",
    "from selenium.webdriver.support.wait import WebDriverWait\n",
    "from selenium.webdriver.support import expected_conditions as EC\n",
    "from selenium.webdriver.common.keys import Keys\n",
    "from bs4 import BeautifulSoup\n",
    "import time"
   ]
  },
  {
   "cell_type": "code",
   "execution_count": 3,
   "id": "f3394bde-aa07-4a8f-899f-f1846bc2e647",
   "metadata": {},
   "outputs": [],
   "source": [
    "master_dict = {\"Name\": [], \"Email\": [], \"Phone\": []}"
   ]
  },
  {
   "cell_type": "code",
   "execution_count": 6,
   "id": "f3c813ee-43ed-4b3c-a2e7-c28e08f5541e",
   "metadata": {},
   "outputs": [],
   "source": [
    "driver = webdriver.Chrome()\n",
    "for i in range(1, 4):\n",
    "    driver.get(f\"https://synergybb.com/businesses-for-sale-2/medical-practices-for-sale/page/{i}/\")\n",
    "    time.sleep(5)\n",
    "    learn_more_buttons = driver.find_elements(By.CSS_SELECTOR, \"a.list-btn\")\n",
    "    for learn_more_button in learn_more_buttons[:5]:\n",
    "        driver.execute_script(\"arguments[0].scrollIntoView();\", learn_more_button)\n",
    "        time.sleep(2)\n",
    "        learn_more_button.click()\n",
    "        time.sleep(3)\n",
    "        get_contact_info()\n",
    "        driver.back()\n",
    "        time.sleep(2)        "
   ]
  },
  {
   "cell_type": "code",
   "execution_count": 5,
   "id": "6d73bdf2-8e23-4257-86a0-a9db8d365136",
   "metadata": {},
   "outputs": [],
   "source": [
    "def get_contact_info():\n",
    "    html = driver.page_source\n",
    "    soup = BeautifulSoup(html, \"html.parser\")\n",
    "    name = soup.find_all(\"h3\")[-1].text.strip()    \n",
    "    contact_information = soup.select_one(\"p.text-center\").text.strip().split(\"Email:\")\n",
    "    phone_number = contact_information[0].split(': ')[1]\n",
    "    email = contact_information[1]\n",
    "    master_dict[\"Name\"].append(name)\n",
    "    master_dict[\"Email\"].append(phone_number)\n",
    "    master_dict[\"Phone\"].append(email)"
   ]
  },
  {
   "cell_type": "code",
   "execution_count": 7,
   "id": "2b8f37b0-b83e-409d-ad73-b92fa08c4855",
   "metadata": {},
   "outputs": [
    {
     "data": {
      "text/plain": [
       "{'Name': ['Joe Coculo',\n",
       "  'Ashish Bhatt',\n",
       "  'Raj Sheth',\n",
       "  'Lincoln Taylor',\n",
       "  'John Meyers',\n",
       "  'Grant Taylor',\n",
       "  'Mark Ilardi',\n",
       "  'Grant Taylor',\n",
       "  'Bo Prybyla',\n",
       "  'John Meyers',\n",
       "  'Michael Farruggia',\n",
       "  'Bo Prybyla',\n",
       "  'Bo Prybyla',\n",
       "  'Robert Stiplosek'],\n",
       " 'Email': ['(609) 672-6467',\n",
       "  '(407) 777-2155',\n",
       "  '(516) 749-1756',\n",
       "  '(978) 443-3238',\n",
       "  '(847) 533-7115',\n",
       "  '914 315 9269',\n",
       "  '732-841-5051',\n",
       "  '914 315 9269',\n",
       "  '(860) 983-9151',\n",
       "  '(847) 533-7115',\n",
       "  '845 222 2240',\n",
       "  '860-983-9151',\n",
       "  '(860) 983-9151',\n",
       "  '5042733226'],\n",
       " 'Phone': ['jcoculo@synergybb.com',\n",
       "  'ashish@synergybb.com',\n",
       "  'rsheth@synergybb.com',\n",
       "  'ltaylor@synergybb.com',\n",
       "  'jmeyers@synergybb.com',\n",
       "  'grant@synergybb.com',\n",
       "  'mark@synergybb.com',\n",
       "  'grant@synergybb.com',\n",
       "  'bprybyla@synergybb.com',\n",
       "  'jmeyers@synergybb.com',\n",
       "  'mike@synergybb.com',\n",
       "  'bprybyla@synergybb.com',\n",
       "  'bprybyla@synergybb.com',\n",
       "  'robert@synergybb.com']}"
      ]
     },
     "execution_count": 7,
     "metadata": {},
     "output_type": "execute_result"
    }
   ],
   "source": [
    "master_dict"
   ]
  },
  {
   "cell_type": "code",
   "execution_count": null,
   "id": "0b172401-8766-4b83-85e3-811559fada12",
   "metadata": {},
   "outputs": [],
   "source": []
  }
 ],
 "metadata": {
  "kernelspec": {
   "display_name": "UpworkProject2",
   "language": "python",
   "name": "upworkproject2"
  },
  "language_info": {
   "codemirror_mode": {
    "name": "ipython",
    "version": 3
   },
   "file_extension": ".py",
   "mimetype": "text/x-python",
   "name": "python",
   "nbconvert_exporter": "python",
   "pygments_lexer": "ipython3",
   "version": "3.12.0"
  }
 },
 "nbformat": 4,
 "nbformat_minor": 5
}
